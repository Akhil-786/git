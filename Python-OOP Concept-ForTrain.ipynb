{
 "cells": [
  {
   "cell_type": "markdown",
   "metadata": {},
   "source": [
    "# Python OOP Concept"
   ]
  },
  {
   "cell_type": "markdown",
   "metadata": {},
   "source": [
    "# 1. Classes "
   ]
  },
  {
   "cell_type": "markdown",
   "metadata": {},
   "source": [
    "# How to create a Class in Python"
   ]
  },
  {
   "cell_type": "markdown",
   "metadata": {},
   "source": [
    "Class -  A user-defined prototype for an object that defines a set of attributes that characterize any object of the class. The attributes are data members (class variables and instance variables) and methods, accessed via dot notation.\n",
    "\n",
    "Class - in Simple Terms - Classes are like a blueprint or a prototype that you can define to use to create objects.\n",
    "\n",
    "\n",
    "\n"
   ]
  },
  {
   "cell_type": "code",
   "execution_count": null,
   "metadata": {
    "collapsed": true
   },
   "outputs": [],
   "source": [
    "# Example: Create a Class of ClassName- we name it as ClassName. \n",
    "#The ClassName can be any Name.  It will not print\n",
    "\n",
    "class ClassName: \n",
    "    variable= \"I am a class Attribute\"\n",
    "    \n",
    "    def function(self):\n",
    "        print(\"I am from inside the class\") \n",
    "        "
   ]
  },
  {
   "cell_type": "markdown",
   "metadata": {},
   "source": [
    "> # How to create a Object in Python- using the class?"
   ]
  },
  {
   "cell_type": "code",
   "execution_count": null,
   "metadata": {
    "collapsed": true
   },
   "outputs": [],
   "source": [
    "# Example:\n",
    "#obj1 = ClassName()"
   ]
  },
  {
   "cell_type": "markdown",
   "metadata": {},
   "source": [
    "> # How to access Class Members?"
   ]
  },
  {
   "cell_type": "markdown",
   "metadata": {},
   "source": [
    "Obj1 and Obj2 are objects of the class ClassName"
   ]
  },
  {
   "cell_type": "code",
   "execution_count": 8,
   "metadata": {
    "collapsed": true
   },
   "outputs": [],
   "source": [
    "class ClassName: \n",
    "    variable= \"I am a class Attribute\"\n",
    "    \n",
    "    def function(self):\n",
    "        print(\"I am from inside the class\") "
   ]
  },
  {
   "cell_type": "code",
   "execution_count": 9,
   "metadata": {},
   "outputs": [
    {
     "name": "stdout",
     "output_type": "stream",
     "text": [
      "I am a class Attribute\n",
      "I am a class Attribute\n",
      "I am from inside the class\n",
      "I am from inside the class\n"
     ]
    }
   ],
   "source": [
    "obj1 = ClassName()\n",
    "obj2 = ClassName()\n",
    "#Creating new instance attribute for obj2. \n",
    "#The class variable - I am a class Attribute gets over written by the Objects value \n",
    "#obj1.variable = \"Obj1.variable -I was just created\"\n",
    "print(obj1.variable)\n",
    "print(obj2.variable)\n",
    "#print(ClassName.variable)\n",
    "obj1.function()\n",
    "obj2.function()\n"
   ]
  },
  {
   "cell_type": "code",
   "execution_count": null,
   "metadata": {
    "collapsed": true
   },
   "outputs": [],
   "source": []
  },
  {
   "cell_type": "markdown",
   "metadata": {},
   "source": [
    "> # __init__() method in Python"
   ]
  },
  {
   "cell_type": "markdown",
   "metadata": {},
   "source": [
    "We define a class in the following way."
   ]
  },
  {
   "cell_type": "code",
   "execution_count": null,
   "metadata": {
    "collapsed": true
   },
   "outputs": [],
   "source": [
    "#will throw and error\n",
    "#class nameoftheclass():\n",
    "   # statement1\n",
    "    #statement2\n",
    "   # statement3"
   ]
  },
  {
   "cell_type": "code",
   "execution_count": 13,
   "metadata": {},
   "outputs": [
    {
     "name": "stdout",
     "output_type": "stream",
     "text": [
      "Init A student object is created.\n",
      "NamePD: Paul\n",
      "BranchPD: CSE\n",
      "YearPD: 2019\n"
     ]
    }
   ],
   "source": [
    "class Student(object):\n",
    "    def __init__(self, name, branch, year):\n",
    "    #def create(self, name, branch, year):\n",
    "        self.name = name\n",
    "        self.branch = branch\n",
    "        self.year = year\n",
    "        print(\"Init A student object is created.\")\n",
    "\n",
    "    def print_details(self):\n",
    "        print(\"NamePD:\", self.name)\n",
    "        print(\"BranchPD:\", self.branch)\n",
    "        print(\"YearPD:\", self.year)\n",
    "        \n",
    "        \n",
    "#we create and object with out passing the parameters it will give an error\n",
    "#obj=Student()\n",
    "#ob.print_details()\n",
    "#we create and object by  passing the parameters it will print the values        \n",
    "#ob1 = Student()\n",
    "ob1= Student(\"Paul\",\"CSE\",2019)\n",
    "\n",
    "#ob2= Student()\n",
    "ob1.print_details()\n",
    "\n",
    "#custPraveena =Student(\"Praveena\",\"CSE\",2019)\n",
    "#custPraveena.print_details()\n",
    "\n"
   ]
  },
  {
   "cell_type": "code",
   "execution_count": null,
   "metadata": {
    "collapsed": true
   },
   "outputs": [],
   "source": []
  },
  {
   "cell_type": "markdown",
   "metadata": {},
   "source": [
    "> # Demo-Test: Classes and Object"
   ]
  },
  {
   "cell_type": "code",
   "execution_count": 1,
   "metadata": {},
   "outputs": [
    {
     "name": "stdout",
     "output_type": "stream",
     "text": [
      "Vehicle object is created.\n",
      "fer is a red convertible worth $70000.00.\n",
      "jump is a blue van worth $15000.00.\n"
     ]
    }
   ],
   "source": [
    "'''\n",
    "T1. Create two new vehicles called car1 and car2. Set car1 to be a \n",
    "red convertible worth $70,000.00 with a name of Fer, \n",
    "and car2 to be a blue van named Jump worth $15,000.00.\n",
    "'''\n",
    "# define the Vehicle class\n",
    "class Vehicle:\n",
    "    name = \"\"    \n",
    "    kind = \"car\"\n",
    "    color = \"\" \n",
    "    value = 100.00\n",
    "    print(\"Vehicle object is created.\")\n",
    "    \n",
    "    def description(self):\n",
    "        desc_str = \"%s is a %s %s worth $%.2f.\" % (self.name, self.color, self.kind, self.value)\n",
    "        #print(\"In Desc Vehicle object is created.\")\n",
    "        return desc_str\n",
    "# your code goes here\n",
    "#......................\n",
    "car1 = Vehicle()\n",
    "\n",
    "car1.name=\"fer\"\n",
    "car1.color=\"red\"\n",
    "car1.kind=\"convertible\"\n",
    "car1.value=70000.00\n",
    "\n",
    "\n",
    "car2 = Vehicle()\n",
    "car2.name=\"jump\"\n",
    "car2.color=\"blue\"\n",
    "car2.kind=\"van\"\n",
    "car2.value=15000.00\n",
    "\n",
    "\n",
    "print(car1.description())\n",
    "print(car2.description())"
   ]
  },
  {
   "cell_type": "markdown",
   "metadata": {},
   "source": [
    "# 2. Inheritance"
   ]
  },
  {
   "cell_type": "markdown",
   "metadata": {},
   "source": [
    "> # Single Inheritance"
   ]
  },
  {
   "cell_type": "code",
   "execution_count": 14,
   "metadata": {
    "collapsed": true
   },
   "outputs": [],
   "source": [
    "class fruit:\n",
    "    def __init__(self):\n",
    "        print(\"I'm a super class fruit\")   \n",
    "        #100 lines of code.....\n",
    "\n",
    "       \n",
    "\n",
    "\n"
   ]
  },
  {
   "cell_type": "code",
   "execution_count": 15,
   "metadata": {},
   "outputs": [
    {
     "name": "stdout",
     "output_type": "stream",
     "text": [
      "I'm a super class fruit\n"
     ]
    }
   ],
   "source": [
    "objFruit = fruit()"
   ]
  },
  {
   "cell_type": "code",
   "execution_count": 18,
   "metadata": {},
   "outputs": [],
   "source": [
    "class citrus(fruit):\n",
    "    def __init__(self):\n",
    "        super().__init__()\n",
    "        print(\"*********\") \n",
    "        print(\"I'm citrus- child class-Single Inheritance\") \n",
    "\n"
   ]
  },
  {
   "cell_type": "code",
   "execution_count": 20,
   "metadata": {},
   "outputs": [
    {
     "name": "stdout",
     "output_type": "stream",
     "text": [
      "I'm a super class fruit\n",
      "*********\n",
      "I'm citrus- child class-Single Inheritance\n"
     ]
    }
   ],
   "source": [
    "objCitrus = citrus()"
   ]
  },
  {
   "cell_type": "markdown",
   "metadata": {},
   "source": [
    "> # Multiple Inheritance"
   ]
  },
  {
   "cell_type": "code",
   "execution_count": 21,
   "metadata": {
    "collapsed": true
   },
   "outputs": [],
   "source": [
    "class A:\n",
    "     pass\n",
    "    \n",
    "class B:\n",
    "     pass\n",
    "    \n"
   ]
  },
  {
   "cell_type": "code",
   "execution_count": 22,
   "metadata": {
    "collapsed": true
   },
   "outputs": [],
   "source": [
    "class C(A,B):\n",
    "     pass\n"
   ]
  },
  {
   "cell_type": "code",
   "execution_count": 23,
   "metadata": {},
   "outputs": [
    {
     "data": {
      "text/plain": [
       "True"
      ]
     },
     "execution_count": 23,
     "metadata": {},
     "output_type": "execute_result"
    }
   ],
   "source": [
    "issubclass(C,A) and issubclass(C,B)"
   ]
  },
  {
   "cell_type": "markdown",
   "metadata": {},
   "source": [
    "> # Multilevel Inheritance"
   ]
  },
  {
   "cell_type": "code",
   "execution_count": null,
   "metadata": {
    "collapsed": true
   },
   "outputs": [],
   "source": []
  },
  {
   "cell_type": "code",
   "execution_count": 24,
   "metadata": {
    "collapsed": true
   },
   "outputs": [],
   "source": [
    "class A:\n",
    "    x=1         \n",
    "class B(A):\n",
    "    #pass\n",
    "    y=2\n",
    "class C(B):\n",
    "    #pass\n",
    "    z=3\n",
    "\n"
   ]
  },
  {
   "cell_type": "code",
   "execution_count": 25,
   "metadata": {},
   "outputs": [
    {
     "name": "stdout",
     "output_type": "stream",
     "text": [
      "1\n",
      "2\n",
      "3\n"
     ]
    }
   ],
   "source": [
    "cobj=C()\n",
    "\n",
    "\n",
    "print(cobj.x)\n",
    "print(cobj.y)\n",
    "print(cobj.z)"
   ]
  },
  {
   "cell_type": "code",
   "execution_count": null,
   "metadata": {
    "collapsed": true
   },
   "outputs": [],
   "source": []
  },
  {
   "cell_type": "markdown",
   "metadata": {},
   "source": [
    "> # Hierarchical Inheritance"
   ]
  },
  {
   "cell_type": "code",
   "execution_count": 26,
   "metadata": {},
   "outputs": [
    {
     "data": {
      "text/plain": [
       "True"
      ]
     },
     "execution_count": 26,
     "metadata": {},
     "output_type": "execute_result"
    }
   ],
   "source": [
    "class A:\n",
    "    pass\n",
    "class B(A):\n",
    "    pass\n",
    "class C(A):\n",
    "    pass\n",
    "issubclass(B,A) and issubclass(C,A)"
   ]
  },
  {
   "cell_type": "markdown",
   "metadata": {},
   "source": [
    "> # Hybrid Inheritance"
   ]
  },
  {
   "cell_type": "code",
   "execution_count": 27,
   "metadata": {
    "collapsed": true
   },
   "outputs": [],
   "source": [
    "class A:\n",
    "    x=1       \n",
    "class B(A):\n",
    "    pass\n"
   ]
  },
  {
   "cell_type": "code",
   "execution_count": 28,
   "metadata": {
    "collapsed": true
   },
   "outputs": [],
   "source": [
    "class C(A):\n",
    "    pass\n"
   ]
  },
  {
   "cell_type": "code",
   "execution_count": 29,
   "metadata": {},
   "outputs": [
    {
     "data": {
      "text/plain": [
       "1"
      ]
     },
     "execution_count": 29,
     "metadata": {},
     "output_type": "execute_result"
    }
   ],
   "source": [
    "class D(B,C):\n",
    "    pass\n",
    "\n",
    "dobj=D()\n",
    "dobj.x"
   ]
  },
  {
   "cell_type": "code",
   "execution_count": null,
   "metadata": {
    "collapsed": true
   },
   "outputs": [],
   "source": []
  },
  {
   "cell_type": "markdown",
   "metadata": {},
   "source": [
    "> # Inheritance Super Function"
   ]
  },
  {
   "cell_type": "code",
   "execution_count": 1,
   "metadata": {},
   "outputs": [],
   "source": [
    "class Vehicle:\n",
    "           def start(self):\n",
    "                 print(\"Starting engine\")\n",
    "           def stop(self):\n",
    "                 print(\"Stopping engine\")                         \n",
    "class TwoWheeler(Vehicle):\n",
    "           def say(self):\n",
    "                  super().start()\n",
    "                  print(\"I have two wheels-Two-wheeler class \")\n",
    "                  super().stop()                            \n"
   ]
  },
  {
   "cell_type": "code",
   "execution_count": 2,
   "metadata": {},
   "outputs": [],
   "source": [
    "Harley=TwoWheeler()\n"
   ]
  },
  {
   "cell_type": "code",
   "execution_count": 33,
   "metadata": {},
   "outputs": [
    {
     "name": "stdout",
     "output_type": "stream",
     "text": [
      "Starting engine\n",
      "I have two wheels-Two-wheeler class \n",
      "Stopping engine\n"
     ]
    }
   ],
   "source": [
    "Harley.say()"
   ]
  },
  {
   "cell_type": "markdown",
   "metadata": {},
   "source": [
    "# Inheritance using the Student Example"
   ]
  },
  {
   "cell_type": "code",
   "execution_count": 2,
   "metadata": {},
   "outputs": [
    {
     "name": "stdout",
     "output_type": "stream",
     "text": [
      "Sachin\n",
      "Kushal studies CSE and is in 2005 year.\n",
      "Prashad teaches C,C++\n"
     ]
    }
   ],
   "source": [
    "class Person(object):\n",
    "    \"\"\"\n",
    "    Returns a ```Person``` object with given name.\n",
    "\n",
    "    \"\"\"\n",
    "    def __init__(self, name):\n",
    "        self.name = name\n",
    "\n",
    "    def get_details(self):\n",
    "        \"Returns a string containing name of the person\"\n",
    "        return self.name\n",
    "\n",
    "\n",
    "class Student(Person):\n",
    "    \"\"\"\n",
    "    Returns a ```Student``` object, takes 3 arguments, name, branch, year.\n",
    "\n",
    "    \"\"\"\n",
    "    def __init__(self, name, branch, year):\n",
    "        Person.__init__(self, name)\n",
    "        self.branch = branch\n",
    "        self.year = year\n",
    "\n",
    "    def get_details(self):\n",
    "        \"Returns a string containing student's details.\"\n",
    "        return \"%s studies %s and is in %s year.\" % (self.name, self.branch, self.year)\n",
    "\n",
    "\n",
    "class Teacher(Person):\n",
    "    \"\"\"\n",
    "    Returns a ```Teacher``` object, takes a list of strings (list of papers) as\n",
    "    argument.\n",
    "    \"\"\"\n",
    "    def __init__(self, name, papers):\n",
    "        Person.__init__(self, name)\n",
    "        self.papers = papers\n",
    "\n",
    "    def get_details(self):\n",
    "        return \"%s teaches %s\" % (self.name, ','.join(self.papers))\n",
    "\n",
    "\n",
    "person1 = Person('Sachin')\n",
    "student1 = Student('Kushal', 'CSE', 2005)\n",
    "teacher1 = Teacher('Prashad', ['C', 'C++'])\n",
    "\n",
    "print(person1.get_details())\n",
    "print(student1.get_details())\n",
    "print(teacher1.get_details())"
   ]
  },
  {
   "cell_type": "markdown",
   "metadata": {},
   "source": [
    "# Implement Polymorphism using Overloading Function "
   ]
  },
  {
   "cell_type": "markdown",
   "metadata": {},
   "source": [
    "> # Why Overload a Function?"
   ]
  },
  {
   "cell_type": "code",
   "execution_count": 35,
   "metadata": {
    "collapsed": true
   },
   "outputs": [],
   "source": [
    "# First product method. \n",
    "# Takes two argument and print their \n",
    "# product \n",
    "def product(a, b): \n",
    "\tp = a * b \n",
    "\tprint(p) \n",
    "\t\n",
    "# Second product method \n",
    "# Takes three argument and print their \n",
    "# product \n",
    "def product(a, b, c): \n",
    "\tp = a * b*c \n",
    "\tprint(p) \n",
    "\n",
    "\n"
   ]
  },
  {
   "cell_type": "code",
   "execution_count": 37,
   "metadata": {},
   "outputs": [
    {
     "name": "stdout",
     "output_type": "stream",
     "text": [
      "100\n"
     ]
    }
   ],
   "source": [
    "# Uncommenting the below line shows an error\t \n",
    "#product(4, 5) \n",
    "\n",
    "# This line will call the second product method \n",
    "product(4, 5, 5) "
   ]
  },
  {
   "cell_type": "code",
   "execution_count": null,
   "metadata": {
    "collapsed": true
   },
   "outputs": [],
   "source": []
  },
  {
   "cell_type": "code",
   "execution_count": null,
   "metadata": {
    "collapsed": true
   },
   "outputs": [],
   "source": [
    "# Uncommenting the below line shows an error\t \n",
    "#product(4, 5) \n",
    "\n",
    "# This line will call the second product method \n",
    "product(4, 5, 5) "
   ]
  },
  {
   "cell_type": "code",
   "execution_count": null,
   "metadata": {
    "collapsed": true
   },
   "outputs": [],
   "source": []
  },
  {
   "cell_type": "code",
   "execution_count": null,
   "metadata": {
    "collapsed": true
   },
   "outputs": [],
   "source": []
  },
  {
   "cell_type": "code",
   "execution_count": 3,
   "metadata": {},
   "outputs": [
    {
     "name": "stdout",
     "output_type": "stream",
     "text": [
      "11\n",
      "Hi Geeks marcel\n"
     ]
    }
   ],
   "source": [
    "# Function to take multiple arguments \n",
    "def add(datatype, *args): \n",
    "\n",
    "\t# if datatype is int \n",
    "\t# initialize answer as 0 \n",
    "\tif datatype =='int': \n",
    "\t\tanswer = 0\n",
    "\t\t\n",
    "\t# if datatype is str \n",
    "\t# initialize answer as '' \n",
    "\tif datatype =='str': \n",
    "\t\tanswer ='' \n",
    "\n",
    "\t# Traverse through the arguments \n",
    "\tfor x in args: \n",
    "\n",
    "\t\t# This will do addition if the \n",
    "\t\t# arguments are int. Or concatenation \n",
    "\t\t# if the arguments are str \n",
    "\t\tanswer = answer + x \n",
    "\n",
    "\tprint(answer) \n",
    "\n",
    "# Integer \n",
    "add('int', 5, 6) \n",
    "\n",
    "# String \n",
    "add('str', 'Hi ', 'Geeks',' marcel') \n"
   ]
  },
  {
   "cell_type": "markdown",
   "metadata": {},
   "source": [
    "# Example from the SLIDE 43 - OVERLOADING A FUNCTION"
   ]
  },
  {
   "cell_type": "code",
   "execution_count": 6,
   "metadata": {},
   "outputs": [
    {
     "data": {
      "text/plain": [
       "9"
      ]
     },
     "execution_count": 6,
     "metadata": {},
     "output_type": "execute_result"
    }
   ],
   "source": [
    "#here Overloading is not working\n",
    "def add(a,b):\n",
    "      return a+b\n",
    "def add(a,b,c):\n",
    "      return a+b+c\n",
    "#TypeError: add() missing 1 required positional argument: 'c'\n",
    "#add(2,3)\n",
    "#prints 9\n",
    "add(2,3,4)\n",
    " "
   ]
  },
  {
   "cell_type": "markdown",
   "metadata": {},
   "source": [
    "> # How to Overload a Function?"
   ]
  },
  {
   "cell_type": "code",
   "execution_count": 9,
   "metadata": {},
   "outputs": [
    {
     "data": {
      "text/plain": [
       "'abc'"
      ]
     },
     "execution_count": 9,
     "metadata": {},
     "output_type": "execute_result"
    }
   ],
   "source": [
    "#def add(instanceOf,*args):\n",
    "def add(instanceOf,*args):\n",
    "    if instanceOf=='int':\n",
    "        result=0\n",
    "    if instanceOf=='str':\n",
    "        result=''\n",
    "    for i in args:\n",
    "        result+=i\n",
    "    return result\n",
    "        \n",
    "add('int',4,3)\n",
    "add('str','a','b','c')"
   ]
  },
  {
   "cell_type": "markdown",
   "metadata": {},
   "source": [
    "# Another example of Overloading"
   ]
  },
  {
   "cell_type": "code",
   "execution_count": 9,
   "metadata": {},
   "outputs": [
    {
     "name": "stdout",
     "output_type": "stream",
     "text": [
      "Hello \n",
      "Hello Venkatesh\n"
     ]
    }
   ],
   "source": [
    "#Define a Overloaded class Human\n",
    "class Human:\n",
    "    def sayHello(self, name=None):\n",
    " \n",
    "        if name is not None:\n",
    "            print ('Hello ' + name)\n",
    "        else:\n",
    "            print ('Hello ')\n",
    " \n",
    "# Create instance\n",
    "obj = Human()\n",
    "obj = Human() \n",
    "# Call the method\n",
    "obj.sayHello()\n",
    " \n",
    "# Call the method with a parameter\n",
    "obj.sayHello('Venkatesh')"
   ]
  },
  {
   "cell_type": "code",
   "execution_count": 10,
   "metadata": {},
   "outputs": [],
   "source": [
    "obj = Human()"
   ]
  },
  {
   "cell_type": "code",
   "execution_count": 12,
   "metadata": {},
   "outputs": [
    {
     "name": "stdout",
     "output_type": "stream",
     "text": [
      "Hello \n"
     ]
    }
   ],
   "source": [
    "obj = Human()\n",
    "obj.sayHello()"
   ]
  },
  {
   "cell_type": "code",
   "execution_count": 13,
   "metadata": {},
   "outputs": [
    {
     "name": "stdout",
     "output_type": "stream",
     "text": [
      "Hello AKHIL\n"
     ]
    }
   ],
   "source": [
    "obj.sayHello('AKHIL')"
   ]
  },
  {
   "cell_type": "markdown",
   "metadata": {},
   "source": [
    "> # Overriding a Function"
   ]
  },
  {
   "cell_type": "markdown",
   "metadata": {},
   "source": [
    "Subclass may change the functionality of a Python method in a Superclass\n",
    "we have overridden the function of sayhi in A. we will print (I am in B)"
   ]
  },
  {
   "cell_type": "code",
   "execution_count": 39,
   "metadata": {},
   "outputs": [
    {
     "name": "stdout",
     "output_type": "stream",
     "text": [
      "I'm in B\n"
     ]
    }
   ],
   "source": [
    "class A:\n",
    "    def sayhi(self):\n",
    "        print(\"I'm in A\")                          \n",
    "class B(A):\n",
    "    #pass\n",
    "    def sayhi(self):\n",
    "        print(\"I'm in B\")                             \n",
    "\n",
    "bobj=B()\n",
    "#bobj=B()\n",
    "bobj.sayhi()\n",
    "\n"
   ]
  },
  {
   "cell_type": "markdown",
   "metadata": {},
   "source": [
    "# 3. Encapsulation"
   ]
  },
  {
   "cell_type": "markdown",
   "metadata": {},
   "source": [
    "> # Encapsulating a Function"
   ]
  },
  {
   "cell_type": "markdown",
   "metadata": {},
   "source": [
    "# SLIDE 51  for Example Encapsulation"
   ]
  },
  {
   "cell_type": "code",
   "execution_count": 6,
   "metadata": {},
   "outputs": [
    {
     "name": "stdout",
     "output_type": "stream",
     "text": [
      "123\n",
      "1\n"
     ]
    }
   ],
   "source": [
    "class Encap(object):\n",
    "   def __init__(self):\n",
    "      self.a = 123\n",
    "      self._b = 1\n",
    "      self.__c = 12345\n",
    "\n",
    "obj = Encap()\n",
    "print(obj.a)\n",
    "#print(obj.b)\n",
    "print(obj._b)\n",
    "#print(obj.__c)\n",
    "#print(obj._Encap__c)\n",
    "\n",
    "#AttributeError: 'Encap' object has no attribute '__c' "
   ]
  },
  {
   "cell_type": "markdown",
   "metadata": {},
   "source": [
    "Python does not have the private keyword, unlike some other object oriented languages, but encapsulation can be done.\n",
    "\n",
    "Instead, it relies on the convention: a class variable that should not directly be accessed should be prefixed with an underscore.\n",
    "\n",
    "So what’s with the underscores and error?\n",
    "\n",
    "A single underscore: Private variable, it should not be accessed directly. But nothing stops you from doing that (except convention).\n",
    "\n",
    "A double underscore: Private variable, harder to access but still possible.\n",
    "\n",
    "Both are still accessible: Python has private variables by convention."
   ]
  },
  {
   "cell_type": "code",
   "execution_count": 7,
   "metadata": {},
   "outputs": [
    {
     "name": "stdout",
     "output_type": "stream",
     "text": [
      "123\n",
      "1234\n",
      "12345\n"
     ]
    }
   ],
   "source": [
    "class Encap(object):\n",
    "   def __init__(self):\n",
    "      self.a = 123\n",
    "      self._b = 1234\n",
    "      self._c = 12345\n",
    "\n",
    "obj = Encap()\n",
    "print(obj.a)\n",
    "print(obj._b)\n",
    "print(obj._c)\n",
    "\n",
    "#_ underscore Attribute works: 'Encap' object has attribute '_c' "
   ]
  },
  {
   "cell_type": "markdown",
   "metadata": {},
   "source": [
    "> # Private Method"
   ]
  },
  {
   "cell_type": "code",
   "execution_count": 4,
   "metadata": {},
   "outputs": [
    {
     "name": "stdout",
     "output_type": "stream",
     "text": [
      "updating software\n",
      "driving\n",
      "updating software\n"
     ]
    }
   ],
   "source": [
    "class Car:\n",
    "    def __init__(self):\n",
    "        self.__updateSoftware()\n",
    "    \n",
    "    def drive(self):\n",
    "        print ('driving')\n",
    "    def __updateSoftware(self):\n",
    "        print('updating software')\n",
    "        \n",
    "        \n",
    "redcar = Car()\n",
    "\n",
    "redcar.drive()\n",
    "\n",
    "#redcar.updateSoftware()\n",
    "#redcar._Car__updateSoftware()\n",
    "\n",
    "#redcar.__updateSoftware()\n",
    "redcar._Car__updateSoftware()  "
   ]
  },
  {
   "cell_type": "markdown",
   "metadata": {},
   "source": [
    "> # How to access a Private Method?"
   ]
  },
  {
   "cell_type": "code",
   "execution_count": 13,
   "metadata": {},
   "outputs": [
    {
     "name": "stdout",
     "output_type": "stream",
     "text": [
      "updating software\n",
      "driving\n",
      "updating software\n"
     ]
    }
   ],
   "source": [
    "class Car:\n",
    "    def __init__(self):\n",
    "        self.__updateSoftware()\n",
    "    def drive(self):\n",
    "        print ('driving')\n",
    "    def __updateSoftware(self):\n",
    "        print ('updating software')\n",
    "redcar = Car()\n",
    "redcar.drive()\n",
    "redcar._Car__updateSoftware()"
   ]
  },
  {
   "cell_type": "markdown",
   "metadata": {},
   "source": [
    "> # Private Variable"
   ]
  },
  {
   "cell_type": "code",
   "execution_count": 18,
   "metadata": {},
   "outputs": [
    {
     "name": "stdout",
     "output_type": "stream",
     "text": [
      "driving. maxspeed  200\n",
      "driving. maxspeed  200\n"
     ]
    }
   ],
   "source": [
    "class Car:\n",
    "    __maxspeed = 0\n",
    "    __name = \"\"\n",
    "    def __init__(self):\n",
    "        self.__maxspeed = 200\n",
    "        self.__name = \"Supercar\"\n",
    "    def drive(self):\n",
    "        print ('driving. maxspeed ' ,self.__maxspeed)\n",
    "\n",
    "        \n",
    "redcar = Car()\n",
    "redcar.drive()\n",
    "redcar._car__maxspeed = 10  # will not change variable because its private\n",
    "#redcar.drive()\n",
    "redcar._car__name = 'Akhil'\n",
    "redcar.drive()"
   ]
  },
  {
   "cell_type": "markdown",
   "metadata": {},
   "source": [
    "> # How to access a Private Variable?"
   ]
  },
  {
   "cell_type": "code",
   "execution_count": 29,
   "metadata": {},
   "outputs": [
    {
     "name": "stdout",
     "output_type": "stream",
     "text": [
      "driving. maxspeed  200\n",
      "driving. maxspeed  25\n",
      "driving. maxspeed  320\n"
     ]
    }
   ],
   "source": [
    "class Car:\n",
    "    __maxspeed = 0\n",
    "    __name = \"\"\n",
    "    def __init__(self):\n",
    "        self.__maxspeed = 200\n",
    "        self.__name = \"Supercar\"\n",
    "    def drive(self):\n",
    "        print ('driving. maxspeed ' ,self.__maxspeed)\n",
    "    def setMaxSpeed(self,speed):\n",
    "        self.__maxspeed = speed\n",
    "        \n",
    "        \n",
    "redcar = Car()\n",
    "redcar.drive()\n",
    "\n",
    "redcar.__maxspeed = 20  # will not change variable because its private\n",
    "\n",
    "redcar._Car__maxspeed = 25 #this line is able is able to change it .\n",
    "#redcar.drive()\n",
    "redcar._car__name = 'Akhil'\n",
    "#print(redcar.__maxspeed)\n",
    "redcar.drive()\n",
    "redcar.setMaxSpeed(320)# will  change variable because we are using the setter method\n",
    "redcar.drive()"
   ]
  },
  {
   "cell_type": "markdown",
   "metadata": {},
   "source": [
    " # 4. Polymorphism"
   ]
  },
  {
   "cell_type": "markdown",
   "metadata": {},
   "source": [
    "> # Real Life Example of Polymorphism "
   ]
  },
  {
   "cell_type": "code",
   "execution_count": 7,
   "metadata": {},
   "outputs": [],
   "source": [
    "class Shark():\n",
    "    def swim(self):\n",
    "        print(\"The shark is swimming.\")\n",
    "    def skeleton(self):\n",
    "        print(\"The shark's skeleton is made of cartilage.\")\n",
    "class Clownfish():\n",
    "    def swim(self):\n",
    "        print(\"The clownfish is swimming.\")\n",
    "    def skeleton(self):\n",
    "        print(\"The clownfish's skeleton is made of bone.\")"
   ]
  },
  {
   "cell_type": "code",
   "execution_count": 8,
   "metadata": {},
   "outputs": [
    {
     "name": "stdout",
     "output_type": "stream",
     "text": [
      "The shark is swimming.\n",
      "The shark's skeleton is made of cartilage.\n",
      "The clownfish is swimming.\n",
      "The clownfish's skeleton is made of bone.\n"
     ]
    }
   ],
   "source": [
    "sammy = Shark()\n",
    "casey = Clownfish()\n",
    "for fish in (sammy, casey):\n",
    "    fish.swim()\n",
    "    fish.skeleton()"
   ]
  },
  {
   "cell_type": "code",
   "execution_count": 12,
   "metadata": {},
   "outputs": [
    {
     "name": "stdout",
     "output_type": "stream",
     "text": [
      "The shark is swimming.\n",
      "The clownfish is swimming.\n"
     ]
    }
   ],
   "source": [
    "def in_the_pacific(fish):\n",
    "    fish.swim()\n",
    "sammy = Shark()\n",
    "casey = Clownfish()\n",
    "in_the_pacific(sammy)\n",
    "in_the_pacific(casey)"
   ]
  },
  {
   "cell_type": "code",
   "execution_count": 17,
   "metadata": {},
   "outputs": [
    {
     "name": "stdout",
     "output_type": "stream",
     "text": [
      "Groarrr\n",
      "Woof woof!\n"
     ]
    }
   ],
   "source": [
    "class Bear(object):\n",
    "    def sound(self):\n",
    "        print (\"Groarrr\")\n",
    "class Dog(object):\n",
    "    def sound(self):\n",
    "        print (\"Woof woof!\")\n",
    "\n",
    "        \n",
    "def makeSound(animaltype):\n",
    "    animaltype.sound()\n",
    "\n",
    "bearObj = Bear()\n",
    "dogObj = Dog()\n",
    " \n",
    "makeSound(bearObj)\n",
    "makeSound(dogObj)"
   ]
  },
  {
   "cell_type": "markdown",
   "metadata": {},
   "source": [
    "Example 1: Create a Document editor\n",
    "If you create an editor you may not know in advance what type of documents a user will open (pdf format or word format?).\n",
    "\n",
    "Wouldn’t it be great to acess them like this,  instead of having 20 types for every document?\n",
    "\n",
    "To do so, we create an abstract class called document.  This class does not have any implementation but defines the structure (in form of functions) that all forms must have.   If we define the function show()  then both the PdfDocument and WordDocument must have the show() function. Full code:"
   ]
  },
  {
   "cell_type": "markdown",
   "metadata": {},
   "source": [
    "Example 2:\n",
    "Another example would be to have an abstract class Car which holds the structure  drive() and stop().  \n",
    "\n",
    "We define two objects Sportscar and Truck, both are a form of Car. In pseudo code what we will do is:    \n",
    "    "
   ]
  },
  {
   "cell_type": "markdown",
   "metadata": {},
   "source": [
    "# Difference between Abstraction and Encapsulation\n",
    "\n"
   ]
  },
  {
   "cell_type": "markdown",
   "metadata": {},
   "source": [
    "Encapsulation is the packing of data and functions operating on that data into a single component and restricting the access to some of the object’s components.\n",
    "Encapsulation means that the internal representation of an object is generally hidden from view outside of the object’s definition.\n",
    "\n",
    "A class is an example of encapsulation as it encapsulates all the data that is member functions,variables etc.\n",
    "\n",
    "Difference between Abstraction and Encapsulation\n",
    "\n",
    "Abstraction is a mechanism which represent the essential features without including implementation details.\n",
    "\n",
    "Encapsulation: — Information hiding.\n",
    "Abstraction: — Implementation hiding.\n",
    "\n",
    "Encapsulation:"
   ]
  },
  {
   "cell_type": "code",
   "execution_count": null,
   "metadata": {
    "collapsed": true
   },
   "outputs": [],
   "source": []
  },
  {
   "cell_type": "code",
   "execution_count": null,
   "metadata": {
    "collapsed": true
   },
   "outputs": [],
   "source": []
  }
 ],
 "metadata": {
  "kernelspec": {
   "display_name": "Python 3",
   "language": "python",
   "name": "python3"
  },
  "language_info": {
   "codemirror_mode": {
    "name": "ipython",
    "version": 3
   },
   "file_extension": ".py",
   "mimetype": "text/x-python",
   "name": "python",
   "nbconvert_exporter": "python",
   "pygments_lexer": "ipython3",
   "version": "3.7.6"
  }
 },
 "nbformat": 4,
 "nbformat_minor": 2
}
